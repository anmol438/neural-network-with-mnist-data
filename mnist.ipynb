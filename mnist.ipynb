{
 "cells": [
  {
   "cell_type": "markdown",
   "metadata": {},
   "source": [
    "Imports"
   ]
  },
  {
   "cell_type": "code",
   "execution_count": 1,
   "metadata": {},
   "outputs": [],
   "source": [
    "import numpy as np\n",
    "import pandas as pd"
   ]
  },
  {
   "cell_type": "markdown",
   "metadata": {},
   "source": [
    "DATA"
   ]
  },
  {
   "cell_type": "code",
   "execution_count": 2,
   "metadata": {},
   "outputs": [],
   "source": [
    "train = pd.read_csv('./mnist_train.csv')\n",
    "test = pd.read_csv('./mnist_test.csv')"
   ]
  },
  {
   "cell_type": "code",
   "execution_count": 3,
   "metadata": {},
   "outputs": [],
   "source": [
    "m_train, n_train =  train.shape\n",
    "m_test, n_test = test.shape\n",
    "train = np.array(train)\n",
    "test = np.array(test)"
   ]
  },
  {
   "cell_type": "code",
   "execution_count": 4,
   "metadata": {},
   "outputs": [],
   "source": [
    "y_train, x_train = train[:,0], train[:,1:n_train].T/255\n",
    "y_test, x_test = test[:,0], test[:,1:n_test].T/255"
   ]
  },
  {
   "cell_type": "code",
   "execution_count": 5,
   "metadata": {},
   "outputs": [],
   "source": [
    "def init_weights():\n",
    "\n",
    "    w1 = np.random.rand(10, 784) - 0.5\n",
    "    w2 = np.random.rand(10, 10) - 0.5\n",
    "    return w1, w2\n",
    "\n",
    "def init_bias():\n",
    "\n",
    "    b1 = np.random.rand(10, 1) - 0.5\n",
    "    b2 = np.random.rand(10, 1) - 0.5\n",
    "    return b1, b2\n",
    "\n",
    "def activation_fn(z):\n",
    "    return np.maximum(0,z)\n",
    "\n",
    "def smooth_fn(z):\n",
    "    \n",
    "    return 1/(1 + np.exp(-z))\n",
    "\n",
    "\n",
    "def deriv_activation_fn(z):\n",
    "    \n",
    "    return z>0\n",
    "\n",
    "def y_label(y):\n",
    "\n",
    "    Y = np.zeros((10, m_train))\n",
    "\n",
    "    for i in range(m_train):\n",
    "\n",
    "        Y[y[i], i] = 1\n",
    "\n",
    "    return Y\n",
    "\n",
    "def get_pred(x):\n",
    "    return np.argmax(x,0)\n",
    "\n",
    "def get_acc(x, y):\n",
    "    return np.count_nonzero(get_pred(x) == y)/y.size"
   ]
  },
  {
   "cell_type": "code",
   "execution_count": 6,
   "metadata": {},
   "outputs": [],
   "source": [
    "def for_prop(x, w1, w2, b1, b2):\n",
    "\n",
    "    z1 = w1.dot(x) + b1\n",
    "    a1 = activation_fn(z1)\n",
    "\n",
    "    z2 = w2.dot(a1) + b2\n",
    "    a2 = smooth_fn(z2)\n",
    "\n",
    "    return a1, a2, z1, z2\n",
    "\n",
    "\n",
    "def back_prop(x, Y, a1, a2, w1, w2, z1, z2):\n",
    "\n",
    "    dz2 = a2 - Y\n",
    "    dw2 = (dz2.dot(a1.T))/m_train\n",
    "    db2 = dz2.sum(axis=1)[:,None]/m_train\n",
    "\n",
    "    dz1 = (w2.T).dot(dz2)*deriv_activation_fn(z1)\n",
    "    dw1 = (dz1).dot(x.T)/m_train\n",
    "    db1 = dz1.sum(axis=1)[:,None]/m_train\n",
    "\n",
    "    return dw1, dw2, db1, db2\n",
    "\n",
    "\n",
    "def update_value(w1, w2, b1, b2, dw1, dw2, db1, db2):\n",
    "    \n",
    "    w1 = w1 - lr * dw1\n",
    "    w2 = w2 - lr * dw2\n",
    "    b1 = b1 - lr * db1\n",
    "    b2 = b2 - lr * db2\n",
    "\n",
    "    return w1, w2, b1, b2\n"
   ]
  },
  {
   "cell_type": "code",
   "execution_count": 7,
   "metadata": {},
   "outputs": [],
   "source": [
    "def grad_desc(x_train, y_train, iterations):\n",
    "\n",
    "    w1, w2 = init_weights()\n",
    "    b1, b2 = init_bias()\n",
    "    Y = y_label(y_train)\n",
    "\n",
    "    for i in range(iterations+1):\n",
    "\n",
    "        a1, a2, z1, z2 = for_prop(x_train, w1, w2, b1, b2)\n",
    "        dw1, dw2, db1, db2 = back_prop(x_train, Y, a1, a2, w1, w2, z1, z2)\n",
    "\n",
    "        w1, w2, b1, b2 = update_value(w1, w2, b1, b2, dw1, dw2, db1, db2)\n",
    "\n",
    "        if i%50 == 0:\n",
    "            accuracy = get_acc(a2, y_train)\n",
    "            print(i)\n",
    "            print(f'Accuracy : {accuracy*100}%')\n",
    "    \n",
    "    return w1, w2, b1, b2"
   ]
  },
  {
   "cell_type": "code",
   "execution_count": 8,
   "metadata": {},
   "outputs": [
    {
     "name": "stdout",
     "output_type": "stream",
     "text": [
      "0\n",
      "Accuracy : 5.319999999999999%\n",
      "50\n",
      "Accuracy : 52.78666666666667%\n",
      "100\n",
      "Accuracy : 66.17833333333333%\n",
      "150\n",
      "Accuracy : 72.10833333333333%\n",
      "200\n",
      "Accuracy : 75.67666666666668%\n",
      "250\n",
      "Accuracy : 78.05333333333333%\n",
      "300\n",
      "Accuracy : 79.76166666666667%\n",
      "350\n",
      "Accuracy : 81.07166666666666%\n",
      "400\n",
      "Accuracy : 82.19166666666666%\n",
      "450\n",
      "Accuracy : 83.015%\n",
      "500\n",
      "Accuracy : 83.71%\n",
      "550\n",
      "Accuracy : 84.36666666666667%\n",
      "600\n",
      "Accuracy : 84.99%\n",
      "650\n",
      "Accuracy : 85.45666666666666%\n",
      "700\n",
      "Accuracy : 85.92999999999999%\n",
      "750\n",
      "Accuracy : 86.37666666666667%\n",
      "800\n",
      "Accuracy : 86.75500000000001%\n",
      "850\n",
      "Accuracy : 87.09%\n",
      "900\n",
      "Accuracy : 87.39833333333334%\n",
      "950\n",
      "Accuracy : 87.63499999999999%\n",
      "1000\n",
      "Accuracy : 87.86166666666666%\n",
      "1050\n",
      "Accuracy : 88.12%\n",
      "1100\n",
      "Accuracy : 88.30833333333334%\n",
      "1150\n",
      "Accuracy : 88.48333333333333%\n",
      "1200\n",
      "Accuracy : 88.65166666666666%\n",
      "1250\n",
      "Accuracy : 88.80666666666667%\n",
      "1300\n",
      "Accuracy : 88.925%\n",
      "1350\n",
      "Accuracy : 89.08166666666666%\n",
      "1400\n",
      "Accuracy : 89.25999999999999%\n",
      "1450\n",
      "Accuracy : 89.38333333333334%\n",
      "1500\n",
      "Accuracy : 89.49666666666667%\n",
      "1550\n",
      "Accuracy : 89.57333333333334%\n",
      "1600\n",
      "Accuracy : 89.68%\n",
      "1650\n",
      "Accuracy : 89.75333333333333%\n",
      "1700\n",
      "Accuracy : 89.845%\n",
      "1750\n",
      "Accuracy : 89.905%\n",
      "1800\n",
      "Accuracy : 89.97333333333334%\n",
      "1850\n",
      "Accuracy : 90.06%\n",
      "1900\n",
      "Accuracy : 90.11333333333333%\n",
      "1950\n",
      "Accuracy : 90.17166666666667%\n",
      "2000\n",
      "Accuracy : 90.22166666666666%\n"
     ]
    }
   ],
   "source": [
    "lr = 0.1\n",
    "iter = 2000\n",
    "W1, W2, B1, B2 = grad_desc(x_train, y_train, iter)"
   ]
  }
 ],
 "metadata": {
  "kernelspec": {
   "display_name": "py3.12",
   "language": "python",
   "name": "python3"
  },
  "language_info": {
   "codemirror_mode": {
    "name": "ipython",
    "version": 3
   },
   "file_extension": ".py",
   "mimetype": "text/x-python",
   "name": "python",
   "nbconvert_exporter": "python",
   "pygments_lexer": "ipython3",
   "version": "3.12.3"
  }
 },
 "nbformat": 4,
 "nbformat_minor": 2
}
