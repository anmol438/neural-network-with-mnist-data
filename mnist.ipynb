{
 "cells": [
  {
   "cell_type": "markdown",
   "metadata": {},
   "source": [
    "Imports"
   ]
  },
  {
   "cell_type": "code",
   "execution_count": null,
   "metadata": {},
   "outputs": [],
   "source": [
    "import numpy as np\n",
    "import pandas as pd"
   ]
  },
  {
   "cell_type": "markdown",
   "metadata": {},
   "source": [
    "DATA"
   ]
  },
  {
   "cell_type": "code",
   "execution_count": null,
   "metadata": {},
   "outputs": [],
   "source": [
    "train = pd.read_csv('./mnist_train.csv')\n",
    "test = pd.read_csv('./mnist_test.csv')"
   ]
  },
  {
   "cell_type": "code",
   "execution_count": null,
   "metadata": {},
   "outputs": [],
   "source": [
    "m_train, n_train =  train.shape\n",
    "m_test, n_test = test.shape\n",
    "train = np.array(train)\n",
    "test = np.array(test)"
   ]
  },
  {
   "cell_type": "code",
   "execution_count": null,
   "metadata": {},
   "outputs": [],
   "source": [
    "y_train, x_train = train[:,0], train[:,1:n_train].T/255\n",
    "y_test, x_test = test[:,0], test[:,1:n_test].T/255"
   ]
  },
  {
   "cell_type": "code",
   "execution_count": null,
   "metadata": {},
   "outputs": [],
   "source": [
    "def init_weights():\n",
    "\n",
    "    w1 = np.random.rand(10, 784) - 0.5\n",
    "    w2 = np.random.rand(10, 10) - 0.5\n",
    "    return w1, w2\n",
    "\n",
    "def init_bias():\n",
    "\n",
    "    b1 = np.random.rand(10, 1) - 0.5\n",
    "    b2 = np.random.rand(10, 1) - 0.5\n",
    "    return b1, b2\n",
    "\n",
    "def activation_fn(z):\n",
    "    return np.maximum(0,z)\n",
    "\n",
    "def smooth_fn(z):\n",
    "    \n",
    "    return 1/(1 + np.exp(-z))\n",
    "\n",
    "\n",
    "def deriv_activation_fn(z):\n",
    "    \n",
    "    return z>0\n",
    "\n",
    "def y_label(y):\n",
    "\n",
    "    Y = np.zeros((10, m_train))\n",
    "\n",
    "    for i in range(m_train):\n",
    "\n",
    "        Y[y[i], i] = 1\n",
    "\n",
    "    return Y\n",
    "\n",
    "def get_pred(x):\n",
    "    return np.argmax(x,0)\n",
    "\n",
    "def get_acc(x, y):\n",
    "    return np.count_nonzero(get_pred(x) == y)/y.size"
   ]
  },
  {
   "cell_type": "code",
   "execution_count": null,
   "metadata": {},
   "outputs": [],
   "source": [
    "def for_prop(x, w1, w2, b1, b2):\n",
    "\n",
    "    z1 = w1.dot(x) + b1\n",
    "    a1 = activation_fn(z1)\n",
    "\n",
    "    z2 = w2.dot(a1) + b2\n",
    "    a2 = smooth_fn(z2)\n",
    "\n",
    "    return a1, a2, z1, z2\n",
    "\n",
    "\n",
    "def back_prop(x, Y, a1, a2, w1, w2, z1, z2):\n",
    "\n",
    "    dz2 = a2 - Y\n",
    "    dw2 = (dz2.dot(a1.T))/m_train\n",
    "    db2 = dz2.sum(axis=1)[:,None]/m_train\n",
    "\n",
    "    dz1 = (w2.T).dot(dz2)*deriv_activation_fn(z1)\n",
    "    dw1 = (dz1).dot(x.T)/m_train\n",
    "    db1 = dz1.sum(axis=1)[:,None]/m_train\n",
    "\n",
    "    return dw1, dw2, db1, db2\n",
    "\n",
    "\n",
    "def update_value(w1, w2, b1, b2, dw1, dw2, db1, db2):\n",
    "    \n",
    "    w1 = w1 - lr * dw1\n",
    "    w2 = w2 - lr * dw2\n",
    "    b1 = b1 - lr * db1\n",
    "    b2 = b2 - lr * db2\n",
    "\n",
    "    return w1, w2, b1, b2\n"
   ]
  },
  {
   "cell_type": "code",
   "execution_count": null,
   "metadata": {},
   "outputs": [],
   "source": [
    "def grad_desc(x_train, y_train, iterations):\n",
    "\n",
    "    w1, w2 = init_weights()\n",
    "    b1, b2 = init_bias()\n",
    "    Y = y_label(y_train)\n",
    "\n",
    "    for i in range(iterations+1):\n",
    "\n",
    "        a1, a2, z1, z2 = for_prop(x_train, w1, w2, b1, b2)\n",
    "        dw1, dw2, db1, db2 = back_prop(x_train, Y, a1, a2, w1, w2, z1, z2)\n",
    "\n",
    "        w1, w2, b1, b2 = update_value(w1, w2, b1, b2, dw1, dw2, db1, db2)\n",
    "\n",
    "        if i%50 == 0:\n",
    "            accuracy = get_acc(a2, y_train)\n",
    "            print(i)\n",
    "            print(f'Accuracy : {accuracy*100}%')\n",
    "    \n",
    "    return w1, w2, b1, b2"
   ]
  },
  {
   "cell_type": "code",
   "execution_count": null,
   "metadata": {},
   "outputs": [],
   "source": [
    "W1, W2, B1, B2 = grad_desc(x_train, y_train, 2000)"
   ]
  }
 ],
 "metadata": {
  "kernelspec": {
   "display_name": "py3.12",
   "language": "python",
   "name": "python3"
  },
  "language_info": {
   "name": "python",
   "version": "3.12.3"
  }
 },
 "nbformat": 4,
 "nbformat_minor": 2
}
